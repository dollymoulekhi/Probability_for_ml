{
 "cells": [
  {
   "cell_type": "markdown",
   "id": "0aa106f3",
   "metadata": {},
   "source": [
    "# Empherical Bootstrap based confidence Interval"
   ]
  },
  {
   "cell_type": "markdown",
   "id": "3813a94f",
   "metadata": {},
   "source": [
    "### Have to calculate 95% confidence interval"
   ]
  },
  {
   "cell_type": "code",
   "execution_count": 30,
   "id": "e6178c30",
   "metadata": {},
   "outputs": [
    {
     "data": {
      "image/png": "[encoded data removed]",
      "text/plain": [
       "<Figure size 432x288 with 1 Axes>"
      ]
     },
     "metadata": {
      "needs_background": "light"
     },
     "output_type": "display_data"
    },
    {
     "name": "stdout",
     "output_type": "stream",
     "text": [
      "95% confidence interval 158.0 , 163.0\n"
     ]
    }
   ],
   "source": [
    "import numpy as np\n",
    "import pandas\n",
    "from sklearn.utils import resample\n",
    "from sklearn.metrics import accuracy_score\n",
    "import matplotlib.pyplot as plt\n",
    "\n",
    "\n",
    "## load dataset\n",
    "dataset=np.random.randint(120,200,1000)\n",
    "\n",
    "##boostrap\n",
    "n_interactions=1000\n",
    "n_size=int(len(dataset))\n",
    "\n",
    "list_val=list()\n",
    "for i in range(n_interactions):\n",
    "    s=resample(dataset,n_samples=n_size)\n",
    "    list_val.append(np.median(s))\n",
    "    \n",
    "\n",
    "plt.hist(list_val)\n",
    "plt.show()\n",
    "\n",
    "#confidence intervals\n",
    "\n",
    "alpha=0.95\n",
    "p=((1.0-alpha)/2.0)*100\n",
    "lower=np.percentile(list_val,p)\n",
    "p=(alpha+(1-alpha)/2.0)*100\n",
    "upper=np.percentile(list_val,p)\n",
    "\n",
    "\n",
    "print(\"95% confidence interval\", lower,\",\",upper)\n",
    "\n"
   ]
  },
  {
   "cell_type": "code",
   "execution_count": null,
   "id": "e0e850aa",
   "metadata": {},
   "outputs": [],
   "source": []
  }
 ],
 "metadata": {
  "kernelspec": {
   "display_name": "Python 3 (ipykernel)",
   "language": "python",
   "name": "python3"
  },
  "language_info": {
   "codemirror_mode": {
    "name": "ipython",
    "version": 3
   },
   "file_extension": ".py",
   "mimetype": "text/x-python",
   "name": "python",
   "nbconvert_exporter": "python",
   "pygments_lexer": "ipython3",
   "version": "3.9.7"
  }
 },
 "nbformat": 4,
 "nbformat_minor": 5
}
